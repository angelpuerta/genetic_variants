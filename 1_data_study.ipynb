{
 "cells": [
  {
   "cell_type": "code",
   "execution_count": null,
   "id": "eda7cdb1",
   "metadata": {},
   "outputs": [],
   "source": [
    "import pandas as pd\n",
    "import matplotlib.pyplot as plt\n",
    "import seaborn as sns\n",
    "import numpy as np\n",
    "import math\n",
    "\n",
    "pd.set_option('display.max_columns', 50)\n",
    "pd.set_option('display.max_rows', 50)\n",
    "\n",
    "%matplotlib inline\n"
   ]
  },
  {
   "cell_type": "code",
   "execution_count": null,
   "id": "74663232",
   "metadata": {},
   "outputs": [],
   "source": [
    "data = pd.read_csv('genetic_variants.csv', sep=',')\n",
    "data"
   ]
  },
  {
   "cell_type": "code",
   "execution_count": null,
   "id": "cd7fd710",
   "metadata": {},
   "outputs": [],
   "source": [
    "data.columns"
   ]
  },
  {
   "cell_type": "code",
   "execution_count": null,
   "id": "f2bb70e4",
   "metadata": {},
   "outputs": [],
   "source": [
    "data.loc[6628]"
   ]
  },
  {
   "cell_type": "markdown",
   "id": "e613e772",
   "metadata": {},
   "source": [
    "## Variables en el datasheet\n",
    "### Columnas fijas del formato VCF \n",
    "- CHROM : identificador en forma RefSeq del cromosoma\n",
    "- Pos : posición relativa en el cromosoma\n",
    "- REF : par de base de referencia\n",
    "- ALT : par de base del alelo\n",
    "\n",
    "### Frecuencias del alelo según distintas fuentes\n",
    "- AF_ESP : Frecuencias del alelo en la población según el repositorio GO-ESP\n",
    "- AF_EXAC : Frecuencias del alelo en la población según el repositorio ExAC\n",
    "- AF_TGP : Frecuencias del alelo en la población según el repositorio 1000 genomes project\n",
    "\n",
    "### Tags de ClinVar\n",
    "- CLNDISDB : enfermedades relacionadas con el par de base \n",
    "- CLNDISDBINCL :\n",
    "- CLNDN : nombre de la enfermedad relacionado con el par de base\n",
    "- CLNDNINCL :\n",
    "- CLNHGVS : representación del alelo en formato HGVS\n",
    "- CLNSIGINCL : A string that describes the variant's clinical significance.  One of the following values may be assigned: 0 unknown, 1 untested, 2 nonpathogenic, 3 probable-nonpathogenic, 4 probable-pathogenic, 5 pathogenic, 6 drug-response, 7 histocompatibility, 255 other.\n",
    "- CLNVC : efecto del alelo en el par de base\n",
    "- CLNVI : proteinas relacionadas según fuentes ajenas a ClinVar\n",
    "\n",
    "### Otras variables\n",
    "- MC : consecuencia molecular\n",
    "- ORIGIN :\n",
    "- SSR : Variant suspect reason code.  The accepted values for this tag are: 0 unspecified, 1 Paralog, 2 byEST, 4 oldAlign, 8 Para_EST, 16 1KG_failed, 1024 other.\n",
    "- CLASS : La clase que delimita si la alteración es benigna o maligna.\n",
    "- Allele : \n",
    "- Consequence : Consecuencia de la alteración\n",
    "- IMPACT : Importancia de la consecuencia en la alteración\n",
    "- SYMBOL : Referencia al simbolo del gen\n",
    "- Feature_type :\n",
    "- Feature :\n",
    "- BIOTYPE : \n",
    "- EXON :\n",
    "- INTRON :\n",
    "- cDNA_position :\n",
    "- Protein_position :\n",
    "- Amino_acids :\n",
    "- Codons :\n",
    "- DISTANCE :\n",
    "- STRAND :\n",
    "- BAM_EDIT :\n",
    "- SIFT :\n",
    "- Polyphen :\n",
    "- MOTIF_NAME :\n",
    "- MOTIF_POS :\n",
    "- HIGH_INF_POS :\n",
    "- MOTIF_SCORE_CHANGE :\n",
    "- LoFtool :\n",
    "- CADD_PHRED : \n",
    "- BLOSUM62 :\n"
   ]
  },
  {
   "cell_type": "markdown",
   "id": "a4a397bb",
   "metadata": {},
   "source": [
    "Parece que tenemos una variable repetida, la representación del alelo, vamos a comprobar si es igual para todos los casos"
   ]
  },
  {
   "cell_type": "code",
   "execution_count": null,
   "id": "d045b84c",
   "metadata": {},
   "outputs": [],
   "source": [
    "(data[\"Allele\"] == data[\"ALT\"]).all()"
   ]
  },
  {
   "cell_type": "code",
   "execution_count": null,
   "id": "6499373c",
   "metadata": {},
   "outputs": [],
   "source": [
    "data[(data[\"Allele\"] != data[\"ALT\"])]"
   ]
  },
  {
   "cell_type": "code",
   "execution_count": null,
   "id": "6bfadc83",
   "metadata": {},
   "outputs": [],
   "source": [
    "not_equals = data[(data[\"Allele\"] == data[\"ALT\"])][\"CLNVC\"].unique()\n",
    "equals = data[(data[\"Allele\"] != data[\"ALT\"])][\"CLNVC\"].unique()  \n",
    "total = set(not_equals) | set(equals)\n",
    "[i for i in total if i not in not_equals or i not in equals]"
   ]
  },
  {
   "cell_type": "code",
   "execution_count": null,
   "id": "e43a5e2d",
   "metadata": {},
   "outputs": [],
   "source": [
    "not_equals = data[(data[\"Allele\"] == data[\"ALT\"])][\"IMPACT\"].unique()\n",
    "equals = data[(data[\"Allele\"] != data[\"ALT\"])][\"IMPACT\"].unique()  \n",
    "total = set(not_equals) | set(equals)\n",
    "[i for i in total if i not in not_equals or i not in equals]"
   ]
  },
  {
   "cell_type": "markdown",
   "id": "b03bcf41",
   "metadata": {},
   "source": [
    "Como no vemos ningún tipo de correlacción entre las diferencias de ALT y Allele y el código de referencia no parece tener ningún tipo de procesamiento singular para las consecuencias podemos asumir un error en el input. También vemos que están afectados 3000 variantes, es decir; menos de un 5% de nuestra colección. Vamos a eliminar estos elementos y también los casos de variantes de más de un par de base. El total va eliminar entorno a un 6% de las variantes."
   ]
  },
  {
   "cell_type": "code",
   "execution_count": null,
   "id": "3b1e8378",
   "metadata": {},
   "outputs": [],
   "source": [
    "filtered_Allele = (data[\"ALT\"].str.len()== 1) & (data[\"Allele\"].str.len()== 1) & (data[\"REF\"].str.len()== 1)\n",
    "data = data[filtered_Allele]\n",
    "data"
   ]
  },
  {
   "cell_type": "markdown",
   "id": "9fe5a912",
   "metadata": {},
   "source": [
    "Ya podemos eliminar una de las columnas \"Allele\" o \"ALT\""
   ]
  },
  {
   "cell_type": "code",
   "execution_count": null,
   "id": "b0968a8c",
   "metadata": {},
   "outputs": [],
   "source": [
    "data = data.drop(columns =[\"Allele\"])\n",
    "data"
   ]
  },
  {
   "cell_type": "code",
   "execution_count": null,
   "id": "13e9705c",
   "metadata": {},
   "outputs": [],
   "source": [
    "categories = data.select_dtypes(include = ['object'])\n",
    "categories"
   ]
  },
  {
   "cell_type": "markdown",
   "id": "b42f4f65",
   "metadata": {},
   "source": [
    "Vemos como tenemos categorias que no son clases como la posición o tienen demasiadas clases como las relativas al tag ClinVar"
   ]
  },
  {
   "cell_type": "code",
   "execution_count": null,
   "id": "40974ce9",
   "metadata": {},
   "outputs": [],
   "source": [
    "categories_to_study = [ \"Consequence\", \"IMPACT\", \"Feature_type\", \"BIOTYPE\", \"BAM_EDIT\", \"SIFT\", \"PolyPhen\", \"MOTIF_NAME\", \"HIGH_INF_POS\"]\n",
    "categories = categories[categories_to_study]\n",
    "categories = categories.join(data[\"CLASS\"])\n",
    "categories"
   ]
  },
  {
   "cell_type": "code",
   "execution_count": null,
   "id": "c0ab78e5",
   "metadata": {},
   "outputs": [],
   "source": [
    "plt.subplots(len(categories_to_study))\n",
    "\n",
    "    \n",
    "def plot_categories(categorie):\n",
    "    data[[categorie, \"CLASS\"]].groupby([categorie, \"CLASS\"]).size().unstack().plot(kind='bar', log=True).get_figure()\n",
    "    \n",
    "for categorie in categories_to_study:\n",
    "    plot = plot_categories(categorie)"
   ]
  },
  {
   "cell_type": "markdown",
   "id": "fb80de06",
   "metadata": {},
   "source": [
    "Vamos a eliminar las clases que no proveen información como HIGH_INF_POS o MOTIF_NAME para evitar que el modelo no se sobreajuste a variables innecesarias."
   ]
  },
  {
   "cell_type": "code",
   "execution_count": null,
   "id": "2b0562c5",
   "metadata": {},
   "outputs": [],
   "source": [
    "data = data.drop(columns =[\"Feature_type\", \"BIOTYPE\", \"BAM_EDIT\", \"MOTIF_NAME\", \"HIGH_INF_POS\"])\n",
    "data "
   ]
  },
  {
   "cell_type": "markdown",
   "id": "4598f85c",
   "metadata": {},
   "source": [
    "Vamos a observar las variables con el tag ClinVar"
   ]
  },
  {
   "cell_type": "code",
   "execution_count": null,
   "id": "d85ed3cd",
   "metadata": {},
   "outputs": [],
   "source": [
    "clinVar_categories = [ \"CLNDISDB\", \"CLNDISDBINCL\", \"CLNDN\", \"CLNDNINCL\", \"CLNVC\", \"CLNVI\", \"CLNHGVS\", \"CLNSIGINCL\"]\n",
    "clinVar_data = data[clinVar_categories].join(data[\"CLASS\"])\n",
    "clinVar_data.groupby(\"CLASS\").nunique()"
   ]
  },
  {
   "cell_type": "markdown",
   "id": "6b1d3be4",
   "metadata": {},
   "source": [
    "Si realizamos una búsqueda vemos como las variables CLNDISDB y CLNDN están intrisecamente relacionadas (MedGen:C1843891 -> Spinocerebellar_ataxia_21); de la misma forma CLNDISDBINCL y CLNDNINCL"
   ]
  },
  {
   "cell_type": "code",
   "execution_count": null,
   "id": "a84e658e",
   "metadata": {},
   "outputs": [],
   "source": [
    "clinVar_data[[\"CLNDISDBINCL\", \"CLNDNINCL\", \"CLNDISDB\", \"CLNDN\"]].dropna()"
   ]
  },
  {
   "cell_type": "code",
   "execution_count": null,
   "id": "33a3ad40",
   "metadata": {},
   "outputs": [],
   "source": [
    "data[~clinVar_data[\"CLNSIGINCL\"].isna()]"
   ]
  },
  {
   "cell_type": "code",
   "execution_count": null,
   "id": "35b645c9",
   "metadata": {},
   "outputs": [],
   "source": [
    "number_of_CLDNs = clinVar_data[\"CLNDN\"].str.extractall(r\"\\|?(?P<clndn>\\w*)\").drop_duplicates().count()\n",
    "number_of_CLNDNINCLs = clinVar_data[\"CLNDNINCL\"].str.extractall(r\"\\|?(?P<clndn>\\w*)\").drop_duplicates().count()\n",
    "number_of_CLDNs, number_of_CLNDNINCLs"
   ]
  },
  {
   "cell_type": "code",
   "execution_count": null,
   "id": "13c032ef",
   "metadata": {},
   "outputs": [],
   "source": [
    "clinVar_data[\"CLNDN\"].str.extractall(r\"\\|?(?P<clndn>\\w*)\").dropna().groupby(level=[0]).size().max()"
   ]
  },
  {
   "cell_type": "code",
   "execution_count": null,
   "id": "ff99236e",
   "metadata": {},
   "outputs": [],
   "source": [
    "clinVar_data[\"CLNSIGINCL\"].dropna().count(), clinVar_data[\"CLNDN\"].dropna().count(), clinVar_data[\"CLNDNINCL\"].dropna().count()"
   ]
  },
  {
   "cell_type": "code",
   "execution_count": null,
   "id": "af30e259",
   "metadata": {},
   "outputs": [],
   "source": [
    "data[\"CLNDN\"] = clinVar_data[\"CLNDN\"].str.extractall(r\"\\|?(?P<clndn>\\w*)\").dropna().groupby(level=[0])[\"clndn\"].apply(list)"
   ]
  },
  {
   "cell_type": "markdown",
   "id": "87bfc515",
   "metadata": {},
   "source": [
    "De momento vamos a eliminar estas variables ya que tienen un número elevado de clases para los pocos casos que tienen. Excepto CLDND el resto van a ser eliminadas."
   ]
  },
  {
   "cell_type": "code",
   "execution_count": null,
   "id": "7e90f45b",
   "metadata": {},
   "outputs": [],
   "source": [
    "clinVar_categories.remove(\"CLNDN\")\n",
    "data = data.drop(columns = clinVar_categories)\n",
    "data"
   ]
  },
  {
   "cell_type": "markdown",
   "id": "5ee7ab14",
   "metadata": {},
   "source": [
    "Vamos a realizar el mismo procedimiento que MC"
   ]
  },
  {
   "cell_type": "code",
   "execution_count": null,
   "id": "e036f955",
   "metadata": {},
   "outputs": [],
   "source": [
    "mc_transformed = data[[\"MC\", \"Consequence\"]]\n",
    "mc_transformed[\"MC\"] = mc_transformed[\"MC\"].str.extractall(r\"\\w+\\|(?P<MC>\\w+)\").dropna().groupby(level=[0])[\"MC\"].apply(list)\n",
    "mc_transformed"
   ]
  },
  {
   "cell_type": "code",
   "execution_count": null,
   "id": "bd10d3e7",
   "metadata": {},
   "outputs": [],
   "source": [
    "mc_transformed[\"MC\"] = mc_transformed[\"MC\"].fillna(\"\").apply(list)\n",
    "mc_transformed[~mc_transformed.apply(lambda row : row[\"Consequence\"] in row[\"MC\"], axis=1)].head(25)"
   ]
  },
  {
   "cell_type": "code",
   "execution_count": null,
   "id": "9eb6897a",
   "metadata": {},
   "outputs": [],
   "source": [
    "mc_transformed[~mc_transformed.apply(lambda row : row[\"Consequence\"] in row[\"MC\"], axis=1)][\"Consequence\"].unique()"
   ]
  },
  {
   "cell_type": "code",
   "execution_count": null,
   "id": "7cdba099",
   "metadata": {},
   "outputs": [],
   "source": [
    "mc_transformed[mc_transformed.apply(lambda row : \"&\" in row[\"Consequence\"] and row[\"Consequence\"] not in row[\"MC\"] , axis=1)]"
   ]
  },
  {
   "cell_type": "markdown",
   "id": "796d6d98",
   "metadata": {},
   "source": [
    "Vamos a observar si la posición puede ser un atributo interesante y podríamos binarizarlo según cromosoma."
   ]
  },
  {
   "cell_type": "code",
   "execution_count": null,
   "id": "457635f6",
   "metadata": {},
   "outputs": [],
   "source": [
    "mc_transformed[\"Consequence\"] = mc_transformed[\"Consequence\"].str.split(\"&\")\n",
    "mc_transformed"
   ]
  },
  {
   "cell_type": "code",
   "execution_count": null,
   "id": "41cfabfd",
   "metadata": {},
   "outputs": [],
   "source": [
    "def transform_consequence(row):\n",
    "    if(type(row[\"Consequence\"]) == list and len(row[\"Consequence\"]) > 1):\n",
    "        return [x for x in row[\"Consequence\"] if x not in row[\"MC\"]]\n",
    "    return row[\"Consequence\"]\n",
    "        \n",
    "consequences = mc_transformed.apply(transform_consequence, axis=1)\n",
    "mc_transformed[~consequences.apply(lambda x: x if len(x) > 1 else None ).isna()]"
   ]
  },
  {
   "cell_type": "markdown",
   "id": "44ccf994",
   "metadata": {},
   "source": [
    "Stop gained and splice_region_variant como una única clase"
   ]
  },
  {
   "cell_type": "code",
   "execution_count": null,
   "id": "0abb7cbf",
   "metadata": {},
   "outputs": [],
   "source": [
    "mc_transformed[\"Consequence\"] = consequences.apply(lambda x: f'{x[0]}&{x[1]}' if len(x) > 1 else x[0])\n",
    "mc_transformed"
   ]
  },
  {
   "cell_type": "code",
   "execution_count": null,
   "id": "a0f793c1",
   "metadata": {},
   "outputs": [],
   "source": [
    "def transform_mc(row):\n",
    "    mc_list = [x for x in row[\"MC\"] if x not in row[\"Consequence\"]]\n",
    "    return mc_list if len(mc_list) > 0 else []\n",
    "        \n",
    "mc_transformed[\"MC\"] = mc_transformed.apply(transform_mc, axis=1)"
   ]
  },
  {
   "cell_type": "code",
   "execution_count": null,
   "id": "9bd35594",
   "metadata": {},
   "outputs": [],
   "source": [
    "mc_transformed[\"MC\"].apply(lambda x : x if len(x) > 0 else None).dropna()"
   ]
  },
  {
   "cell_type": "code",
   "execution_count": null,
   "id": "9a337452",
   "metadata": {},
   "outputs": [],
   "source": [
    "mc_transformed[\"Consequence\"].unique()"
   ]
  },
  {
   "cell_type": "markdown",
   "id": "3da97711",
   "metadata": {},
   "source": [
    "Teniendo en cuenta que MC sólo tiene varias clases en sólo una sexta parte de los casos vamos a unir Consequence y MC"
   ]
  },
  {
   "cell_type": "code",
   "execution_count": null,
   "id": "0d67a5de",
   "metadata": {},
   "outputs": [],
   "source": [
    "data[\"Consequence\"] = mc_transformed.apply(lambda x : [x[\"Consequence\"]] + x[\"MC\"], axis=1)\n",
    "data = data.drop(columns = [\"MC\"])\n",
    "data"
   ]
  },
  {
   "cell_type": "markdown",
   "id": "2eb46cf4",
   "metadata": {},
   "source": [
    "Vamos a la distribución de los cromosomas"
   ]
  },
  {
   "cell_type": "code",
   "execution_count": null,
   "id": "e8eb6257",
   "metadata": {},
   "outputs": [],
   "source": [
    "data[\"CHROM\"].value_counts()"
   ]
  },
  {
   "cell_type": "code",
   "execution_count": null,
   "id": "160f25b0",
   "metadata": {},
   "outputs": [],
   "source": [
    "DNA_position = data[data[\"CHROM\"] == \"2\"][[\"cDNA_position\", \"CLASS\"]]\n",
    "DNA_position[\"cDNA_position\"] = pd.to_numeric(DNA_position[\"cDNA_position\"])\n",
    "DNA_position[\"bin\"] = pd.qcut(DNA_position[\"cDNA_position\"], 20)\n",
    "DNA_position.groupby([\"bin\", \"CLASS\"]).size().unstack().plot(kind='bar')"
   ]
  },
  {
   "cell_type": "code",
   "execution_count": null,
   "id": "af9597d2",
   "metadata": {},
   "outputs": [],
   "source": [
    "DNA_position = data[data[\"CHROM\"] == \"17\"][[\"cDNA_position\", \"CLASS\"]]\n",
    "DNA_position[\"cDNA_position\"] = pd.to_numeric(DNA_position[\"cDNA_position\"])\n",
    "DNA_position[\"bin\"] = pd.qcut(DNA_position[\"cDNA_position\"], 20)\n",
    "DNA_position.groupby([\"bin\", \"CLASS\"]).size().unstack().plot(kind='bar')"
   ]
  },
  {
   "cell_type": "markdown",
   "id": "501face2",
   "metadata": {},
   "source": [
    "Puede ser un atributo interesante, vamos a realizar la transformación por cada cromosoma. Pero antes vamos a ver cómo se correlacionan estas variables."
   ]
  },
  {
   "cell_type": "markdown",
   "id": "648ce345",
   "metadata": {},
   "source": [
    "El valor puede estar entre dos valores, vamos a tomar el inferior y si está a ? el superior"
   ]
  },
  {
   "cell_type": "code",
   "execution_count": null,
   "id": "1e2d2584",
   "metadata": {},
   "outputs": [],
   "source": [
    "def get_value_position(position):\n",
    "    if type(position) == str and len(position.split(\"-\")) == 2:\n",
    "        return position.split(\"-\")[0] if position.split(\"-\")[0] != \"?\" else position.split(\"-\")[1]\n",
    "    return position\n",
    "position = data[[\"cDNA_position\", \"CDS_position\", \"Protein_position\"]].copy()\n",
    "position[\"cDNA_position\"] =  position[\"cDNA_position\"].apply(get_value_position)\n",
    "position[\"cDNA_position\"] =  pd.to_numeric(position[\"cDNA_position\"])\n",
    "position[\"CDS_position\"] =  position[\"CDS_position\"].apply(get_value_position)\n",
    "position[\"CDS_position\"] =  pd.to_numeric(position[\"CDS_position\"])\n",
    "position[\"Protein_position\"] =  position[\"Protein_position\"].apply(get_value_position)\n",
    "position[\"Protein_position\"] =  pd.to_numeric(position[\"Protein_position\"])\n",
    "\n",
    "plt.figure(figsize = (3, 3))\n",
    "sns.heatmap(position.corr(), annot = True, linewidths=.5, cmap = plt.cm.cool)"
   ]
  },
  {
   "cell_type": "code",
   "execution_count": null,
   "id": "b8737ede",
   "metadata": {},
   "outputs": [],
   "source": [
    "position.std()"
   ]
  },
  {
   "cell_type": "markdown",
   "id": "d06d1b55",
   "metadata": {},
   "source": [
    "Eliminamos las variables correlacionadas cDNA_position y Protein_position"
   ]
  },
  {
   "cell_type": "code",
   "execution_count": null,
   "id": "ccee3617",
   "metadata": {},
   "outputs": [],
   "source": [
    "data = data.drop(columns = [\"cDNA_position\", \"Protein_position\"])\n",
    "data"
   ]
  },
  {
   "cell_type": "code",
   "execution_count": null,
   "id": "71cdf539",
   "metadata": {},
   "outputs": [],
   "source": [
    "#data[\"CDS_position\"] =  data[\"CDS_position\"].apply(get_value_position)\n",
    "#data[\"CDS_position\"] = pd.to_numeric(data[\"CDS_position\"])\n",
    "\n",
    "#for chrom in data[\"CHROM\"].unique():\n",
    "#    selected_chrom = data[data[\"CHROM\"] == chrom]\n",
    "#    print(chrom)\n",
    "#    pd.qcut(selected_chrom[\"CDS_position\"], 20)\n"
   ]
  },
  {
   "cell_type": "markdown",
   "id": "d5db6ae9",
   "metadata": {},
   "source": [
    "Hay un problema con los cromosomas mitocondrial"
   ]
  },
  {
   "cell_type": "markdown",
   "id": "bf4b2887",
   "metadata": {},
   "source": [
    "Como hay muy pocos casos de ADN mitocondrial, podríamos eliminarlo por el momento."
   ]
  },
  {
   "cell_type": "code",
   "execution_count": null,
   "id": "ac785d0f",
   "metadata": {},
   "outputs": [],
   "source": [
    "data[data[\"CHROM\"] == \"MT\"]"
   ]
  },
  {
   "cell_type": "markdown",
   "id": "4e93c46d",
   "metadata": {},
   "source": [
    "Normalize positions for each chromosomes to avoid the differences in the location of chromosomes with longer positions."
   ]
  },
  {
   "cell_type": "code",
   "execution_count": null,
   "id": "e9ab8fad",
   "metadata": {},
   "outputs": [],
   "source": [
    "data = data[data[\"CHROM\"] != \"MT\"]\n",
    "\n",
    "normalized_positions = []\n",
    "data[\"CDS_position\"] =  data[\"CDS_position\"].apply(get_value_position)\n",
    "data[\"CDS_position\"] = pd.to_numeric(data[\"CDS_position\"])\n",
    "\n",
    "for chrom in data[\"CHROM\"].unique():\n",
    "    selected_chrom = data[data[\"CHROM\"] == chrom][\"CDS_position\"]\n",
    "    min_max = (selected_chrom-selected_chrom.min())/(selected_chrom.max()-selected_chrom.min())\n",
    "    normalized_positions.append(min_max)\n",
    "\n",
    "indexes = []\n",
    "normalized = []\n",
    "\n",
    "for positions_by_chrom in normalized_positions:\n",
    "    indexes.extend(positions_by_chrom.index)\n",
    "    normalized.extend(positions_by_chrom.array)\n",
    "\n",
    "data[\"CDS_position\"] = pd.Series(index=indexes, data=normalized)\n",
    "data"
   ]
  },
  {
   "cell_type": "markdown",
   "id": "063d34b2",
   "metadata": {},
   "source": [
    "Vamos a partir la columna de aminoácidos y a eliminar la de codones ya que parte de la información está incluida en los aminoácidos."
   ]
  },
  {
   "cell_type": "code",
   "execution_count": null,
   "id": "d4a604df",
   "metadata": {},
   "outputs": [],
   "source": [
    "def split_aminoacids(aminoacid_chain):\n",
    "    aminoacids = aminoacid_chain.split(\"/\")\n",
    "    if(len(aminoacids) < 2):\n",
    "        return [aminoacid_chain]\n",
    "    return aminoacids\n",
    "amino_acids_pairs = data[\"Amino_acids\"].dropna().apply(split_aminoacids)"
   ]
  },
  {
   "cell_type": "code",
   "execution_count": null,
   "id": "822423ab",
   "metadata": {},
   "outputs": [],
   "source": [
    "data[\"Amino_acids_target\"] = amino_acids_pairs.transform(lambda x: x[1] if len(x) > 1 else 'None') \n",
    "data[\"Amino_acids\"] = amino_acids_pairs.transform(lambda x: x[0] if len(x) > 0 else 'None') \n",
    "data"
   ]
  },
  {
   "cell_type": "code",
   "execution_count": null,
   "id": "9af2ea7d",
   "metadata": {},
   "outputs": [],
   "source": [
    "data = data.drop(columns = \"Codons\")\n",
    "data"
   ]
  },
  {
   "cell_type": "markdown",
   "id": "13138ff6",
   "metadata": {},
   "source": [
    "Vamos a ver si el símbolo es una variable relevante."
   ]
  },
  {
   "cell_type": "code",
   "execution_count": null,
   "id": "7061a39c",
   "metadata": {},
   "outputs": [],
   "source": [
    "gene_ct = pd.crosstab(data.SYMBOL, data.CLASS, margins=True)\n",
    "gene_ct.drop('All', axis=0, inplace=True)\n",
    "\n",
    "gene_ct = gene_ct.sort_values(by='All', ascending=False).head(50)\n",
    "gene_ct.drop('All', axis=1, inplace=True)\n",
    "\n",
    "gene_ct.plot.bar(stacked=True, figsize=(16, 8));"
   ]
  },
  {
   "cell_type": "markdown",
   "id": "9a45da0c",
   "metadata": {},
   "source": [
    "Mismo comportamiento con la variable FEATURE"
   ]
  },
  {
   "cell_type": "code",
   "execution_count": null,
   "id": "e0f03e62",
   "metadata": {},
   "outputs": [],
   "source": [
    "gene_ct = pd.crosstab(data.Feature, data.CLASS, margins=True)\n",
    "gene_ct.drop('All', axis=0, inplace=True)\n",
    "\n",
    "gene_ct = gene_ct.sort_values(by='All', ascending=False).head(50)\n",
    "gene_ct.drop('All', axis=1, inplace=True)\n",
    "\n",
    "gene_ct.plot.bar(stacked=True, figsize=(12, 4));"
   ]
  },
  {
   "cell_type": "code",
   "execution_count": null,
   "id": "a42a1b9f",
   "metadata": {},
   "outputs": [],
   "source": [
    "data.describe(include='all')"
   ]
  },
  {
   "cell_type": "markdown",
   "id": "d6d6fc79",
   "metadata": {},
   "source": [
    "Vemos como AF_ESP, AF_EXAC y AF_TGP tienen características muy similares, vamos  convertirlos en un valor ya que es la misma variable pero tomada de distintas fuentes, hemos optado por aplicar la mediana ya que la media puede verse muy afectada si hay una gran diferencia."
   ]
  },
  {
   "cell_type": "code",
   "execution_count": null,
   "id": "9680aad1",
   "metadata": {},
   "outputs": [],
   "source": [
    "frecuencies_columns = [\"AF_ESP\", \"AF_EXAC\", \"AF_TGP\"]\n",
    "frecuency = data[frecuencies_columns]\n",
    "data[\"AF\"] = frecuency.median(axis=1)\n",
    "data"
   ]
  },
  {
   "cell_type": "code",
   "execution_count": null,
   "id": "606676af",
   "metadata": {},
   "outputs": [],
   "source": [
    "data = data.drop(columns = frecuencies_columns)\n",
    "data"
   ]
  },
  {
   "cell_type": "code",
   "execution_count": null,
   "id": "c367ad1f",
   "metadata": {},
   "outputs": [],
   "source": [
    "data.info()"
   ]
  },
  {
   "cell_type": "markdown",
   "id": "2c443371",
   "metadata": {},
   "source": [
    "Vemos como tenemos un número importante de variables que en la mayoría de casos son nulos, vamos a eliminar estas variables siempre y cuando no superen un límite."
   ]
  },
  {
   "cell_type": "code",
   "execution_count": null,
   "id": "48f719fa",
   "metadata": {},
   "outputs": [],
   "source": [
    "percentage_na = data.isnull().sum().apply(lambda x: x/data.shape[0]*100)\n",
    "percentage_na"
   ]
  },
  {
   "cell_type": "code",
   "execution_count": null,
   "id": "ef2967f3",
   "metadata": {},
   "outputs": [],
   "source": [
    "applied_na = percentage_na[percentage_na > 75]\n",
    "columns_to_delete = applied_na.index.to_numpy()\n",
    "columns_to_delete"
   ]
  },
  {
   "cell_type": "markdown",
   "id": "40f3101b",
   "metadata": {},
   "source": [
    "Vamos a quitar el Intron porque posiblemente tenga relación con el EXON"
   ]
  },
  {
   "cell_type": "code",
   "execution_count": null,
   "id": "16837e9d",
   "metadata": {},
   "outputs": [],
   "source": [
    "columns_to_delete = columns_to_delete[columns_to_delete != \"INTRON\"] \n",
    "columns_to_delete"
   ]
  },
  {
   "cell_type": "code",
   "execution_count": null,
   "id": "d6f9d37e",
   "metadata": {},
   "outputs": [],
   "source": [
    "data = data.drop(columns=columns_to_delete)\n",
    "data"
   ]
  },
  {
   "cell_type": "markdown",
   "id": "d737d1bf",
   "metadata": {},
   "source": [
    "PolyPhen ya tiene una clase unknown que podemos emplear para el resto de elementos que faltan"
   ]
  },
  {
   "cell_type": "code",
   "execution_count": null,
   "id": "7f34f449",
   "metadata": {},
   "outputs": [],
   "source": [
    "data[\"PolyPhen\"] = data[\"PolyPhen\"].fillna(\"unknown\")\n",
    "data[\"PolyPhen\"].unique()"
   ]
  },
  {
   "cell_type": "markdown",
   "id": "60c04dc4",
   "metadata": {},
   "source": [
    "Para los intrones y exones vamos a suponer una localización en el intron"
   ]
  },
  {
   "cell_type": "code",
   "execution_count": null,
   "id": "dcb45316",
   "metadata": {},
   "outputs": [],
   "source": [
    "data[\"EXON\"].unique(), data[\"INTRON\"].unique()"
   ]
  },
  {
   "cell_type": "code",
   "execution_count": null,
   "id": "b63286bd",
   "metadata": {},
   "outputs": [],
   "source": [
    "data[data[\"INTRON\"].notna() & data[\"EXON\"].notna()]"
   ]
  },
  {
   "cell_type": "code",
   "execution_count": null,
   "id": "adbf45e7",
   "metadata": {},
   "outputs": [],
   "source": [
    "data[data[\"INTRON\"].isna() & data[\"EXON\"].isna()].info()"
   ]
  },
  {
   "cell_type": "code",
   "execution_count": null,
   "id": "f5d1cbbb",
   "metadata": {},
   "outputs": [],
   "source": [
    "incoherent_indexes = data[\"INTRON\"].isna() & data[\"EXON\"].isna()\n",
    "data = data[~incoherent_indexes]\n",
    "data"
   ]
  },
  {
   "cell_type": "code",
   "execution_count": null,
   "id": "d097206f",
   "metadata": {},
   "outputs": [],
   "source": [
    "gene_ct = pd.crosstab(data.EXON, data.CLASS, margins=True)\n",
    "gene_ct.drop('All', axis=0, inplace=True)\n",
    "\n",
    "gene_ct = gene_ct.sort_values(by='All', ascending=False).head(50)\n",
    "gene_ct.drop('All', axis=1, inplace=True)\n",
    "\n",
    "gene_ct.plot.bar(stacked=True, figsize=(12, 4));"
   ]
  },
  {
   "cell_type": "code",
   "execution_count": null,
   "id": "5a316e57",
   "metadata": {},
   "outputs": [],
   "source": [
    "gene_ct = pd.crosstab(data.INTRON, data.CLASS, margins=True)\n",
    "gene_ct.drop('All', axis=0, inplace=True)\n",
    "\n",
    "gene_ct = gene_ct.sort_values(by='All', ascending=False).head(50)\n",
    "gene_ct.drop('All', axis=1, inplace=True)\n",
    "\n",
    "gene_ct.plot.bar(stacked=True, figsize=(12, 4));"
   ]
  },
  {
   "cell_type": "markdown",
   "id": "a5612aba",
   "metadata": {},
   "source": [
    "Vamos a marcar la localización como una fracción y a unir ambas columnas"
   ]
  },
  {
   "cell_type": "code",
   "execution_count": null,
   "id": "636f35eb",
   "metadata": {},
   "outputs": [],
   "source": [
    "def intro_exon_to_float(value):\n",
    "    if type(value) == str:\n",
    "        values = value.split(\"/\")\n",
    "        return float(values[0])/float(values[1])\n",
    "    return value\n",
    "\n",
    "data[\"IS_EXON\"] = ~data[\"EXON\"].isna()\n",
    "data[\"EXON\"] = data[\"EXON\"].transform(intro_exon_to_float)\n",
    "data[\"INTRON\"] = data[\"INTRON\"].transform(intro_exon_to_float)\n",
    "data[\"EXON_INTRON\"] = data[\"EXON\"].fillna(0)+data[\"INTRON\"].fillna(0)\n",
    "\n",
    "data = data.drop(columns = [\"EXON\", \"INTRON\"])\n",
    "data"
   ]
  },
  {
   "cell_type": "markdown",
   "id": "271176f2",
   "metadata": {},
   "source": [
    "Vamos a observar las correlaciones en el código"
   ]
  },
  {
   "cell_type": "code",
   "execution_count": null,
   "id": "3b4e9467",
   "metadata": {},
   "outputs": [],
   "source": [
    "plt.figure(figsize = (17, 17))\n",
    "sns.heatmap(data.corr(), annot = True, linewidths=.5, cmap = plt.cm.cool)"
   ]
  },
  {
   "cell_type": "markdown",
   "id": "f9c9fc1d",
   "metadata": {},
   "source": [
    "Como vemos que CADD_PHRED y CADD_RAW están correlacionadas, vamos a eliminar la que menos varianza tenga"
   ]
  },
  {
   "cell_type": "code",
   "execution_count": null,
   "id": "94ae5359",
   "metadata": {},
   "outputs": [],
   "source": [
    "cadd_data = data[[\"CADD_PHRED\", \"CADD_RAW\"]]\n",
    "cadd_data =(cadd_data-cadd_data.min())/(cadd_data.max()-cadd_data.min())\n",
    "cadd_data.std()"
   ]
  },
  {
   "cell_type": "code",
   "execution_count": null,
   "id": "07498cd7",
   "metadata": {},
   "outputs": [],
   "source": [
    "data = data.drop(columns=[\"CADD_RAW\"])\n",
    "data"
   ]
  },
  {
   "cell_type": "markdown",
   "id": "09ca8b0e",
   "metadata": {},
   "source": [
    "También vemos que hay una fuerte relación entre LoFTool - POS y EXON_INTRON - CDS_position"
   ]
  },
  {
   "cell_type": "code",
   "execution_count": null,
   "id": "361305c1",
   "metadata": {},
   "outputs": [],
   "source": [
    "corr_by_chrom = data[data[\"CHROM\"] == \"2\"].corr()\n",
    "plt.figure(figsize = (17, 17))\n",
    "sns.heatmap(corr_by_chrom, annot = True, linewidths=.5, cmap = plt.cm.cool)"
   ]
  },
  {
   "cell_type": "code",
   "execution_count": null,
   "id": "993c0537",
   "metadata": {},
   "outputs": [],
   "source": [
    "sns.scatterplot(data[\"CDS_position\"], data[\"LoFtool\"])"
   ]
  },
  {
   "cell_type": "markdown",
   "id": "be54c02b",
   "metadata": {},
   "source": [
    "Como no vemos una tendencia clara vamos a proseguir con esta variable pese a que haya una correlación del 36%"
   ]
  },
  {
   "cell_type": "code",
   "execution_count": null,
   "id": "223c3af3",
   "metadata": {},
   "outputs": [],
   "source": [
    "sns.scatterplot(data[\"CDS_position\"], data[\"EXON_INTRON\"])"
   ]
  },
  {
   "cell_type": "markdown",
   "id": "0978199f",
   "metadata": {},
   "source": [
    "Tiene sentido que no haya posiciones elevadas en la proteina para los segmentos de exon o intron donde se encuentran más cerca del inicio."
   ]
  },
  {
   "cell_type": "code",
   "execution_count": 71,
   "id": "a8ce937a",
   "metadata": {},
   "outputs": [
    {
     "data": {
      "text/html": [
       "<div>\n",
       "<style scoped>\n",
       "    .dataframe tbody tr th:only-of-type {\n",
       "        vertical-align: middle;\n",
       "    }\n",
       "\n",
       "    .dataframe tbody tr th {\n",
       "        vertical-align: top;\n",
       "    }\n",
       "\n",
       "    .dataframe thead th {\n",
       "        text-align: right;\n",
       "    }\n",
       "</style>\n",
       "<table border=\"1\" class=\"dataframe\">\n",
       "  <thead>\n",
       "    <tr style=\"text-align: right;\">\n",
       "      <th></th>\n",
       "      <th>CHROM</th>\n",
       "      <th>POS</th>\n",
       "      <th>REF</th>\n",
       "      <th>ALT</th>\n",
       "      <th>CLNDN</th>\n",
       "      <th>ORIGIN</th>\n",
       "      <th>CLASS</th>\n",
       "      <th>Consequence</th>\n",
       "      <th>IMPACT</th>\n",
       "      <th>SYMBOL</th>\n",
       "      <th>Feature</th>\n",
       "      <th>CDS_position</th>\n",
       "      <th>Amino_acids</th>\n",
       "      <th>STRAND</th>\n",
       "      <th>SIFT</th>\n",
       "      <th>PolyPhen</th>\n",
       "      <th>LoFtool</th>\n",
       "      <th>CADD_PHRED</th>\n",
       "      <th>BLOSUM62</th>\n",
       "      <th>Amino_acids_target</th>\n",
       "      <th>AF</th>\n",
       "      <th>IS_EXON</th>\n",
       "      <th>EXON_INTRON</th>\n",
       "    </tr>\n",
       "  </thead>\n",
       "  <tbody>\n",
       "    <tr>\n",
       "      <th>0</th>\n",
       "      <td>1</td>\n",
       "      <td>1168180</td>\n",
       "      <td>G</td>\n",
       "      <td>C</td>\n",
       "      <td>[not_specified]</td>\n",
       "      <td>1</td>\n",
       "      <td>0</td>\n",
       "      <td>[missense_variant]</td>\n",
       "      <td>MODERATE</td>\n",
       "      <td>B3GALT6</td>\n",
       "      <td>NM_080605.3</td>\n",
       "      <td>0.033481</td>\n",
       "      <td>E</td>\n",
       "      <td>1.0</td>\n",
       "      <td>tolerated</td>\n",
       "      <td>benign</td>\n",
       "      <td>NaN</td>\n",
       "      <td>1.053</td>\n",
       "      <td>2.0</td>\n",
       "      <td>D</td>\n",
       "      <td>0.10020</td>\n",
       "      <td>True</td>\n",
       "      <td>1.000000</td>\n",
       "    </tr>\n",
       "    <tr>\n",
       "      <th>1</th>\n",
       "      <td>1</td>\n",
       "      <td>1470752</td>\n",
       "      <td>G</td>\n",
       "      <td>A</td>\n",
       "      <td>[Spinocerebellar_ataxia_21, not_provided]</td>\n",
       "      <td>1</td>\n",
       "      <td>0</td>\n",
       "      <td>[missense_variant]</td>\n",
       "      <td>MODERATE</td>\n",
       "      <td>TMEM240</td>\n",
       "      <td>NM_001114748.1</td>\n",
       "      <td>0.032646</td>\n",
       "      <td>P</td>\n",
       "      <td>-1.0</td>\n",
       "      <td>deleterious_low_confidence</td>\n",
       "      <td>benign</td>\n",
       "      <td>NaN</td>\n",
       "      <td>31.000</td>\n",
       "      <td>-3.0</td>\n",
       "      <td>L</td>\n",
       "      <td>0.00000</td>\n",
       "      <td>True</td>\n",
       "      <td>1.000000</td>\n",
       "    </tr>\n",
       "    <tr>\n",
       "      <th>2</th>\n",
       "      <td>1</td>\n",
       "      <td>1737942</td>\n",
       "      <td>A</td>\n",
       "      <td>G</td>\n",
       "      <td>[Strabismus, Nystagmus, Hypothyroidism, Intell...</td>\n",
       "      <td>35</td>\n",
       "      <td>1</td>\n",
       "      <td>[missense_variant, 5_prime_UTR_variant]</td>\n",
       "      <td>MODERATE</td>\n",
       "      <td>GNB1</td>\n",
       "      <td>NM_002074.4</td>\n",
       "      <td>0.015295</td>\n",
       "      <td>I</td>\n",
       "      <td>-1.0</td>\n",
       "      <td>deleterious</td>\n",
       "      <td>probably_damaging</td>\n",
       "      <td>NaN</td>\n",
       "      <td>28.100</td>\n",
       "      <td>-1.0</td>\n",
       "      <td>T</td>\n",
       "      <td>0.00000</td>\n",
       "      <td>True</td>\n",
       "      <td>0.500000</td>\n",
       "    </tr>\n",
       "    <tr>\n",
       "      <th>3</th>\n",
       "      <td>1</td>\n",
       "      <td>2160305</td>\n",
       "      <td>G</td>\n",
       "      <td>A</td>\n",
       "      <td>[Shprintzen, Goldberg_syndrome, not_provided]</td>\n",
       "      <td>33</td>\n",
       "      <td>0</td>\n",
       "      <td>[missense_variant]</td>\n",
       "      <td>MODERATE</td>\n",
       "      <td>SKI</td>\n",
       "      <td>XM_005244775.1</td>\n",
       "      <td>0.006362</td>\n",
       "      <td>G</td>\n",
       "      <td>1.0</td>\n",
       "      <td>NaN</td>\n",
       "      <td>unknown</td>\n",
       "      <td>NaN</td>\n",
       "      <td>22.500</td>\n",
       "      <td>NaN</td>\n",
       "      <td>S</td>\n",
       "      <td>0.00000</td>\n",
       "      <td>True</td>\n",
       "      <td>0.142857</td>\n",
       "    </tr>\n",
       "    <tr>\n",
       "      <th>4</th>\n",
       "      <td>1</td>\n",
       "      <td>2160305</td>\n",
       "      <td>G</td>\n",
       "      <td>T</td>\n",
       "      <td>[Shprintzen, Goldberg_syndrome]</td>\n",
       "      <td>33</td>\n",
       "      <td>0</td>\n",
       "      <td>[missense_variant]</td>\n",
       "      <td>MODERATE</td>\n",
       "      <td>SKI</td>\n",
       "      <td>XM_005244775.1</td>\n",
       "      <td>0.006362</td>\n",
       "      <td>G</td>\n",
       "      <td>1.0</td>\n",
       "      <td>NaN</td>\n",
       "      <td>unknown</td>\n",
       "      <td>NaN</td>\n",
       "      <td>24.700</td>\n",
       "      <td>-3.0</td>\n",
       "      <td>C</td>\n",
       "      <td>0.00000</td>\n",
       "      <td>True</td>\n",
       "      <td>0.142857</td>\n",
       "    </tr>\n",
       "    <tr>\n",
       "      <th>...</th>\n",
       "      <td>...</td>\n",
       "      <td>...</td>\n",
       "      <td>...</td>\n",
       "      <td>...</td>\n",
       "      <td>...</td>\n",
       "      <td>...</td>\n",
       "      <td>...</td>\n",
       "      <td>...</td>\n",
       "      <td>...</td>\n",
       "      <td>...</td>\n",
       "      <td>...</td>\n",
       "      <td>...</td>\n",
       "      <td>...</td>\n",
       "      <td>...</td>\n",
       "      <td>...</td>\n",
       "      <td>...</td>\n",
       "      <td>...</td>\n",
       "      <td>...</td>\n",
       "      <td>...</td>\n",
       "      <td>...</td>\n",
       "      <td>...</td>\n",
       "      <td>...</td>\n",
       "      <td>...</td>\n",
       "    </tr>\n",
       "    <tr>\n",
       "      <th>65183</th>\n",
       "      <td>X</td>\n",
       "      <td>154158201</td>\n",
       "      <td>T</td>\n",
       "      <td>G</td>\n",
       "      <td>[Hereditary_factor_VIII_deficiency_disease, no...</td>\n",
       "      <td>1</td>\n",
       "      <td>0</td>\n",
       "      <td>[synonymous_variant]</td>\n",
       "      <td>LOW</td>\n",
       "      <td>F8</td>\n",
       "      <td>NM_000132.3</td>\n",
       "      <td>0.354794</td>\n",
       "      <td>S</td>\n",
       "      <td>-1.0</td>\n",
       "      <td>NaN</td>\n",
       "      <td>unknown</td>\n",
       "      <td>0.00158</td>\n",
       "      <td>0.105</td>\n",
       "      <td>NaN</td>\n",
       "      <td>None</td>\n",
       "      <td>0.13923</td>\n",
       "      <td>True</td>\n",
       "      <td>0.538462</td>\n",
       "    </tr>\n",
       "    <tr>\n",
       "      <th>65184</th>\n",
       "      <td>X</td>\n",
       "      <td>154159118</td>\n",
       "      <td>C</td>\n",
       "      <td>T</td>\n",
       "      <td>[not_specified, Hemophilia_A, _FVIII_Deficiency]</td>\n",
       "      <td>1</td>\n",
       "      <td>1</td>\n",
       "      <td>[missense_variant]</td>\n",
       "      <td>MODERATE</td>\n",
       "      <td>F8</td>\n",
       "      <td>NM_000132.3</td>\n",
       "      <td>0.270573</td>\n",
       "      <td>V</td>\n",
       "      <td>-1.0</td>\n",
       "      <td>tolerated</td>\n",
       "      <td>benign</td>\n",
       "      <td>0.00158</td>\n",
       "      <td>0.002</td>\n",
       "      <td>3.0</td>\n",
       "      <td>I</td>\n",
       "      <td>0.00130</td>\n",
       "      <td>True</td>\n",
       "      <td>0.538462</td>\n",
       "    </tr>\n",
       "    <tr>\n",
       "      <th>65185</th>\n",
       "      <td>X</td>\n",
       "      <td>154194886</td>\n",
       "      <td>C</td>\n",
       "      <td>T</td>\n",
       "      <td>[not_specified, Hemophilia_A, _FVIII_Deficiency]</td>\n",
       "      <td>1</td>\n",
       "      <td>0</td>\n",
       "      <td>[synonymous_variant]</td>\n",
       "      <td>LOW</td>\n",
       "      <td>F8</td>\n",
       "      <td>NM_000132.3</td>\n",
       "      <td>0.099651</td>\n",
       "      <td>A</td>\n",
       "      <td>-1.0</td>\n",
       "      <td>NaN</td>\n",
       "      <td>unknown</td>\n",
       "      <td>0.00158</td>\n",
       "      <td>12.850</td>\n",
       "      <td>NaN</td>\n",
       "      <td>None</td>\n",
       "      <td>0.01110</td>\n",
       "      <td>True</td>\n",
       "      <td>0.307692</td>\n",
       "    </tr>\n",
       "    <tr>\n",
       "      <th>65186</th>\n",
       "      <td>X</td>\n",
       "      <td>154490187</td>\n",
       "      <td>T</td>\n",
       "      <td>C</td>\n",
       "      <td>[Non, syndromic_X, linked_intellectual_disabil...</td>\n",
       "      <td>1</td>\n",
       "      <td>0</td>\n",
       "      <td>[synonymous_variant]</td>\n",
       "      <td>LOW</td>\n",
       "      <td>RAB39B</td>\n",
       "      <td>NM_171998.2</td>\n",
       "      <td>0.049780</td>\n",
       "      <td>T</td>\n",
       "      <td>-1.0</td>\n",
       "      <td>NaN</td>\n",
       "      <td>unknown</td>\n",
       "      <td>NaN</td>\n",
       "      <td>0.130</td>\n",
       "      <td>NaN</td>\n",
       "      <td>None</td>\n",
       "      <td>0.00030</td>\n",
       "      <td>True</td>\n",
       "      <td>1.000000</td>\n",
       "    </tr>\n",
       "    <tr>\n",
       "      <th>65187</th>\n",
       "      <td>X</td>\n",
       "      <td>154508542</td>\n",
       "      <td>G</td>\n",
       "      <td>C</td>\n",
       "      <td>[not_specified, not_provided]</td>\n",
       "      <td>1</td>\n",
       "      <td>0</td>\n",
       "      <td>[missense_variant]</td>\n",
       "      <td>MODERATE</td>\n",
       "      <td>CLIC2</td>\n",
       "      <td>XM_005274646.1</td>\n",
       "      <td>0.048769</td>\n",
       "      <td>P</td>\n",
       "      <td>-1.0</td>\n",
       "      <td>NaN</td>\n",
       "      <td>unknown</td>\n",
       "      <td>0.14000</td>\n",
       "      <td>0.046</td>\n",
       "      <td>-1.0</td>\n",
       "      <td>A</td>\n",
       "      <td>0.00190</td>\n",
       "      <td>True</td>\n",
       "      <td>0.857143</td>\n",
       "    </tr>\n",
       "  </tbody>\n",
       "</table>\n",
       "<p>61166 rows × 23 columns</p>\n",
       "</div>"
      ],
      "text/plain": [
       "      CHROM        POS REF ALT  \\\n",
       "0         1    1168180   G   C   \n",
       "1         1    1470752   G   A   \n",
       "2         1    1737942   A   G   \n",
       "3         1    2160305   G   A   \n",
       "4         1    2160305   G   T   \n",
       "...     ...        ...  ..  ..   \n",
       "65183     X  154158201   T   G   \n",
       "65184     X  154159118   C   T   \n",
       "65185     X  154194886   C   T   \n",
       "65186     X  154490187   T   C   \n",
       "65187     X  154508542   G   C   \n",
       "\n",
       "                                                   CLNDN  ORIGIN  CLASS  \\\n",
       "0                                        [not_specified]       1      0   \n",
       "1              [Spinocerebellar_ataxia_21, not_provided]       1      0   \n",
       "2      [Strabismus, Nystagmus, Hypothyroidism, Intell...      35      1   \n",
       "3          [Shprintzen, Goldberg_syndrome, not_provided]      33      0   \n",
       "4                        [Shprintzen, Goldberg_syndrome]      33      0   \n",
       "...                                                  ...     ...    ...   \n",
       "65183  [Hereditary_factor_VIII_deficiency_disease, no...       1      0   \n",
       "65184   [not_specified, Hemophilia_A, _FVIII_Deficiency]       1      1   \n",
       "65185   [not_specified, Hemophilia_A, _FVIII_Deficiency]       1      0   \n",
       "65186  [Non, syndromic_X, linked_intellectual_disabil...       1      0   \n",
       "65187                      [not_specified, not_provided]       1      0   \n",
       "\n",
       "                                   Consequence    IMPACT   SYMBOL  \\\n",
       "0                           [missense_variant]  MODERATE  B3GALT6   \n",
       "1                           [missense_variant]  MODERATE  TMEM240   \n",
       "2      [missense_variant, 5_prime_UTR_variant]  MODERATE     GNB1   \n",
       "3                           [missense_variant]  MODERATE      SKI   \n",
       "4                           [missense_variant]  MODERATE      SKI   \n",
       "...                                        ...       ...      ...   \n",
       "65183                     [synonymous_variant]       LOW       F8   \n",
       "65184                       [missense_variant]  MODERATE       F8   \n",
       "65185                     [synonymous_variant]       LOW       F8   \n",
       "65186                     [synonymous_variant]       LOW   RAB39B   \n",
       "65187                       [missense_variant]  MODERATE    CLIC2   \n",
       "\n",
       "              Feature  CDS_position Amino_acids  STRAND  \\\n",
       "0         NM_080605.3      0.033481           E     1.0   \n",
       "1      NM_001114748.1      0.032646           P    -1.0   \n",
       "2         NM_002074.4      0.015295           I    -1.0   \n",
       "3      XM_005244775.1      0.006362           G     1.0   \n",
       "4      XM_005244775.1      0.006362           G     1.0   \n",
       "...               ...           ...         ...     ...   \n",
       "65183     NM_000132.3      0.354794           S    -1.0   \n",
       "65184     NM_000132.3      0.270573           V    -1.0   \n",
       "65185     NM_000132.3      0.099651           A    -1.0   \n",
       "65186     NM_171998.2      0.049780           T    -1.0   \n",
       "65187  XM_005274646.1      0.048769           P    -1.0   \n",
       "\n",
       "                             SIFT           PolyPhen  LoFtool  CADD_PHRED  \\\n",
       "0                       tolerated             benign      NaN       1.053   \n",
       "1      deleterious_low_confidence             benign      NaN      31.000   \n",
       "2                     deleterious  probably_damaging      NaN      28.100   \n",
       "3                             NaN            unknown      NaN      22.500   \n",
       "4                             NaN            unknown      NaN      24.700   \n",
       "...                           ...                ...      ...         ...   \n",
       "65183                         NaN            unknown  0.00158       0.105   \n",
       "65184                   tolerated             benign  0.00158       0.002   \n",
       "65185                         NaN            unknown  0.00158      12.850   \n",
       "65186                         NaN            unknown      NaN       0.130   \n",
       "65187                         NaN            unknown  0.14000       0.046   \n",
       "\n",
       "       BLOSUM62 Amino_acids_target       AF  IS_EXON  EXON_INTRON  \n",
       "0           2.0                  D  0.10020     True     1.000000  \n",
       "1          -3.0                  L  0.00000     True     1.000000  \n",
       "2          -1.0                  T  0.00000     True     0.500000  \n",
       "3           NaN                  S  0.00000     True     0.142857  \n",
       "4          -3.0                  C  0.00000     True     0.142857  \n",
       "...         ...                ...      ...      ...          ...  \n",
       "65183       NaN               None  0.13923     True     0.538462  \n",
       "65184       3.0                  I  0.00130     True     0.538462  \n",
       "65185       NaN               None  0.01110     True     0.307692  \n",
       "65186       NaN               None  0.00030     True     1.000000  \n",
       "65187      -1.0                  A  0.00190     True     0.857143  \n",
       "\n",
       "[61166 rows x 23 columns]"
      ]
     },
     "execution_count": 71,
     "metadata": {},
     "output_type": "execute_result"
    }
   ],
   "source": [
    "data"
   ]
  },
  {
   "cell_type": "code",
   "execution_count": 72,
   "id": "d43fb3f9",
   "metadata": {},
   "outputs": [],
   "source": [
    "data.to_csv('data_filtered.csv')"
   ]
  },
  {
   "cell_type": "code",
   "execution_count": null,
   "id": "482a78a5",
   "metadata": {},
   "outputs": [],
   "source": []
  }
 ],
 "metadata": {
  "kernelspec": {
   "display_name": "Python 3",
   "language": "python",
   "name": "python3"
  },
  "language_info": {
   "codemirror_mode": {
    "name": "ipython",
    "version": 3
   },
   "file_extension": ".py",
   "mimetype": "text/x-python",
   "name": "python",
   "nbconvert_exporter": "python",
   "pygments_lexer": "ipython3",
   "version": "3.9.6"
  }
 },
 "nbformat": 4,
 "nbformat_minor": 5
}
